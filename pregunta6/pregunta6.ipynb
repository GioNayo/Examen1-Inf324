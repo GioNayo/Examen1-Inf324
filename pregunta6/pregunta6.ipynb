{
 "cells": [
  {
   "cell_type": "code",
   "execution_count": 19,
   "id": "282911e0",
   "metadata": {},
   "outputs": [
    {
     "name": "stdout",
     "output_type": "stream",
     "text": [
      "lp    Cb   Ru   Pt   ta   Sc ch\n",
      "81.0000000000000000 None 78.5000000000000000 None None None\n"
     ]
    }
   ],
   "source": [
    "import psycopg2 as pc\n",
    "conexion = pc.connect(user=\"postgres\",\n",
    "                      password=\"123\",\n",
    "                      host=\"localhost\",\n",
    "                      port=\"\",\n",
    "                      database=\"mibaseGioU\")\n",
    "cursor = conexion.cursor()\n",
    "sql=\"select avg(case when xper.departamento='02' then (xins.nota1+xins.nota2+xins.nota3+xins.nota_final) end) LP, avg(case when xper.departamento='03' then (xins.nota1+xins.nota2+xins.nota3+xins.nota_final) end) CB, avg(case when xper.departamento='04' then (xins.nota1+xins.nota2+xins.nota3+xins.nota_final) end) RU, avg(case when xper.departamento='05' then (xins.nota1+xins.nota2+xins.nota3+xins.nota_final) end) PT, avg(case when xper.departamento='06' then (xins.nota1+xins.nota2+xins.nota3+xins.nota_final) end) TJ, avg(case when xper.departamento='07' then (xins.nota1+xins.nota2+xins.nota3+xins.nota_final) end) SC , avg(case when xper.departamento='01' then (xins.nota1+xins.nota2+xins.nota3+xins.nota_final) end) CH from persona xper, inscripcion xins where xper.ci=cast(xins.ci_estudiante as numeric)\"\n",
    "cursor.execute(sql)\n",
    "registros = cursor.fetchall()\n",
    "#print(registros)\n",
    "for registro in registros:\n",
    "    print(\"lp\",\"   Cb\",\"  Ru\",\"  Pt\",\"  ta\",\"  Sc\",\"ch\") \n",
    "    print(registro[0],registro[1],registro[2],registro[3],registro[4],registro[5])\n",
    "cursor.close()\n",
    "conexion.close()"
   ]
  },
  {
   "cell_type": "code",
   "execution_count": 20,
   "id": "aae26ed4",
   "metadata": {},
   "outputs": [
    {
     "name": "stdout",
     "output_type": "stream",
     "text": [
      "Note: you may need to restart the kernel to use updated packages.\n"
     ]
    },
    {
     "name": "stderr",
     "output_type": "stream",
     "text": [
      "ERROR: Could not find a version that satisfies the requirement pyscopg2 (from versions: none)\n",
      "ERROR: No matching distribution found for pyscopg2\n"
     ]
    }
   ],
   "source": [
    "pip install pyscopg2"
   ]
  },
  {
   "cell_type": "code",
   "execution_count": 4,
   "id": "fca053d7",
   "metadata": {},
   "outputs": [
    {
     "ename": "SyntaxError",
     "evalue": "invalid syntax (2872003717.py, line 1)",
     "output_type": "error",
     "traceback": [
      "\u001b[1;36m  Input \u001b[1;32mIn [4]\u001b[1;36m\u001b[0m\n\u001b[1;33m    install psycopg2-binary\u001b[0m\n\u001b[1;37m            ^\u001b[0m\n\u001b[1;31mSyntaxError\u001b[0m\u001b[1;31m:\u001b[0m invalid syntax\n"
     ]
    }
   ],
   "source": [
    "install psycopg2-binary\n"
   ]
  },
  {
   "cell_type": "code",
   "execution_count": 6,
   "id": "a6ff0fc1",
   "metadata": {},
   "outputs": [
    {
     "name": "stdout",
     "output_type": "stream",
     "text": [
      "Requirement already satisfied: psycopg2-binary in c:\\users\\usmay\\anaconda3\\lib\\site-packages (2.9.4)\n",
      "Note: you may need to restart the kernel to use updated packages.\n"
     ]
    }
   ],
   "source": [
    "pip install psycopg2-binary"
   ]
  },
  {
   "cell_type": "code",
   "execution_count": null,
   "id": "0973d32d",
   "metadata": {},
   "outputs": [],
   "source": []
  }
 ],
 "metadata": {
  "kernelspec": {
   "display_name": "Python 3 (ipykernel)",
   "language": "python",
   "name": "python3"
  },
  "language_info": {
   "codemirror_mode": {
    "name": "ipython",
    "version": 3
   },
   "file_extension": ".py",
   "mimetype": "text/x-python",
   "name": "python",
   "nbconvert_exporter": "python",
   "pygments_lexer": "ipython3",
   "version": "3.9.12"
  }
 },
 "nbformat": 4,
 "nbformat_minor": 5
}
